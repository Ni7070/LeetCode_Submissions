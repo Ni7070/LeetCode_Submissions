{
  "nbformat": 4,
  "nbformat_minor": 0,
  "metadata": {
    "colab": {
      "name": "Valid Parentheses.ipynb",
      "provenance": [],
      "collapsed_sections": [],
      "authorship_tag": "ABX9TyPCpx/OYpBdO2iSq1ELHAcf",
      "include_colab_link": true
    },
    "kernelspec": {
      "name": "python3",
      "display_name": "Python 3"
    },
    "language_info": {
      "name": "python"
    }
  },
  "cells": [
    {
      "cell_type": "markdown",
      "metadata": {
        "id": "view-in-github",
        "colab_type": "text"
      },
      "source": [
        "<a href=\"https://colab.research.google.com/github/Ni7070/LeetCode_Submissions/blob/master/Valid_Parentheses.ipynb\" target=\"_parent\"><img src=\"https://colab.research.google.com/assets/colab-badge.svg\" alt=\"Open In Colab\"/></a>"
      ]
    },
    {
      "cell_type": "markdown",
      "metadata": {
        "id": "0jCf369u4o2q"
      },
      "source": [
        "**20. Valid Parentheses**\n",
        "\n",
        "Given a string s containing just the characters '(', ')', '{', '}', '[' and ']', determine if the input string is valid.\n",
        "\n",
        "An input string is valid if:\n",
        "\n",
        "1. Open brackets must be closed by the same type of brackets.\n",
        "2. Open brackets must be closed in the correct order.\n",
        "\n",
        "Example 1:\n",
        "\n",
        "Input: s = \"()\" <br>\n",
        "Output: true <br>\n",
        "\n",
        "Example 2: <br>\n",
        "Input: s = \"()[]{}\" <br>\n",
        "Output: true<br>\n",
        "\n",
        "Example 3:<br>\n",
        "\n",
        "Input: s = \"(]\"<br>\n",
        "Output: false<br>\n",
        "\n",
        "Example 4:<br>\n",
        "\n",
        "Input: s = \"([)]\"<br>\n",
        "Output: false<br>\n",
        "\n",
        "Example 5:<br>\n",
        "\n",
        "Input: s = \"{[]}\"<br>\n",
        "Output: true<br>\n",
        " \n",
        "\n",
        "Constraints:\n",
        "\n",
        "a. 1 <= s.length <= 104 <br>\n",
        "b. s consists of parentheses only '()[]{}'."
      ]
    },
    {
      "cell_type": "code",
      "metadata": {
        "colab": {
          "base_uri": "https://localhost:8080/"
        },
        "id": "RvuCxfZAmq2o",
        "outputId": "925beffd-b733-40a2-a377-d78c47bcf2d6"
      },
      "source": [
        "s = \"([)]\"\n",
        "opening = [\"(\", \"{\", \"[\"]\n",
        "closing = [\")\", \"}\", \"]\"]\n",
        "bracket = {\n",
        "  \"(\": \")\",\n",
        "  \"{\": \"}\",\n",
        "  \"[\": \"]\" \n",
        "  }\n",
        "\n",
        "stack = [] \n",
        "top = -1\n",
        "\n",
        "if len(s)>=1 and len(s) <= 10**4:\n",
        "  for i in s:\n",
        "    if i in opening:\n",
        "      stack.append(i)\n",
        "      top=top+1\n",
        "    elif i in closing and top!=-1 and bracket[stack[top]] == i:\n",
        "      stack.pop()\n",
        "      top=top-1\n",
        "    else:\n",
        "      print(\"false\")\n",
        "      #return False  \n",
        "  if top == -1:\n",
        "    print(\"true\")\n",
        "    #return True\n",
        "else:\n",
        "  print(\"false\")\n",
        "  #return False"
      ],
      "execution_count": 17,
      "outputs": [
        {
          "output_type": "stream",
          "text": [
            "false\n"
          ],
          "name": "stdout"
        }
      ]
    }
  ]
}