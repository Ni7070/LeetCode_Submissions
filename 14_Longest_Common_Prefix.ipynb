{
  "nbformat": 4,
  "nbformat_minor": 0,
  "metadata": {
    "colab": {
      "name": "14. Longest Common Prefix.ipynb",
      "provenance": [],
      "authorship_tag": "ABX9TyMzuYR5mwQ2oJMDBMscy5bL",
      "include_colab_link": true
    },
    "kernelspec": {
      "name": "python3",
      "display_name": "Python 3"
    },
    "language_info": {
      "name": "python"
    }
  },
  "cells": [
    {
      "cell_type": "markdown",
      "metadata": {
        "id": "view-in-github",
        "colab_type": "text"
      },
      "source": [
        "<a href=\"https://colab.research.google.com/github/Ni7070/LeetCode_Submissions/blob/master/14_Longest_Common_Prefix.ipynb\" target=\"_parent\"><img src=\"https://colab.research.google.com/assets/colab-badge.svg\" alt=\"Open In Colab\"/></a>"
      ]
    },
    {
      "cell_type": "markdown",
      "metadata": {
        "id": "Izhsvk63wyK8"
      },
      "source": [
        "**14. Longest Common Prefix**\n",
        "Write a function to find the longest common prefix string amongst an array of strings.\n",
        "\n",
        "If there is no common prefix, return an empty string \"\".\n",
        "\n",
        "Example 1:\n",
        "\n",
        "Input: strs = [\"flower\",\"flow\",\"flight\"] <br>\n",
        "Output: \"fl\"<br>\n",
        "Example 2:\n",
        "\n",
        "Input: strs = [\"dog\",\"racecar\",\"car\"]<br>\n",
        "Output: \"\"<br>\n",
        "Explanation: There is no common prefix among the input strings.<br>"
      ]
    },
    {
      "cell_type": "code",
      "metadata": {
        "colab": {
          "base_uri": "https://localhost:8080/"
        },
        "id": "58pUe3OTpitv",
        "outputId": "dc32c2b1-a3c5-49f6-ea84-4ee801e3ddaa"
      },
      "source": [
        "def some():\n",
        "  strs = [\"flower\",\"flow\",\"flight\"]\n",
        "  minimum = min([len(i) for i in strs])\n",
        "  res=\"\"\n",
        "  for i in range(minimum):\n",
        "    for s in strs:\n",
        "      if s[i] != strs[0][i]:\n",
        "        return res\n",
        "    res += strs[0][i]\n",
        "  return res \n",
        "    # print(s[i], strs[0][i])\n",
        "p = some()\n",
        "print(p)"
      ],
      "execution_count": 90,
      "outputs": [
        {
          "output_type": "stream",
          "name": "stdout",
          "text": [
            "fl\n"
          ]
        }
      ]
    },
    {
      "cell_type": "code",
      "metadata": {
        "colab": {
          "base_uri": "https://localhost:8080/"
        },
        "id": "OQMZxZzJombF",
        "outputId": "542dd27f-0f82-463c-883d-4140498c4873"
      },
      "source": [
        "#for better understanding\n",
        "for i in range(minimum):\n",
        "    for s in strs:\n",
        "      print(s[i], strs[0][i])"
      ],
      "execution_count": 92,
      "outputs": [
        {
          "output_type": "stream",
          "name": "stdout",
          "text": [
            "f f\n",
            "f f\n",
            "f f\n",
            "l l\n",
            "l l\n",
            "l l\n",
            "o o\n",
            "o o\n",
            "i o\n",
            "w w\n",
            "w w\n",
            "g w\n"
          ]
        }
      ]
    }
  ]
}