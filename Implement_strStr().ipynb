{
  "nbformat": 4,
  "nbformat_minor": 0,
  "metadata": {
    "colab": {
      "name": "Implement strStr().ipynb",
      "provenance": [],
      "collapsed_sections": [],
      "authorship_tag": "ABX9TyME53+n5iA2Vgk7ZH2+0psv",
      "include_colab_link": true
    },
    "kernelspec": {
      "name": "python3",
      "display_name": "Python 3"
    },
    "language_info": {
      "name": "python"
    }
  },
  "cells": [
    {
      "cell_type": "markdown",
      "metadata": {
        "id": "view-in-github",
        "colab_type": "text"
      },
      "source": [
        "<a href=\"https://colab.research.google.com/github/Ni7070/LeetCode_Submissions/blob/master/Implement_strStr().ipynb\" target=\"_parent\"><img src=\"https://colab.research.google.com/assets/colab-badge.svg\" alt=\"Open In Colab\"/></a>"
      ]
    },
    {
      "cell_type": "markdown",
      "metadata": {
        "id": "0jCf369u4o2q"
      },
      "source": [
        "**28. Implement strStr()**\n",
        "\n",
        "\n",
        "Return the index of the first occurrence of needle in haystack, or -1 if needle is not part of haystack.\n",
        "\n",
        "*Clarification:*\n",
        "\n",
        "What should we return when needle is an empty string? This is a great question to ask during an interview.\n",
        "\n",
        "For the purpose of this problem, we will return 0 when needle is an empty string. This is consistent to C's strstr() and Java's indexOf().\n",
        "\n",
        " \n",
        "\n",
        "*Example 1:*\n",
        "\n",
        "Input: haystack = \"hello\", needle = \"ll\"<br>\n",
        "Output: 2<br>\n",
        "*Example 2:*\n",
        "\n",
        "Input: haystack = \"aaaaa\", needle = \"bba\"<br>\n",
        "Output: -1<br>\n",
        "\n",
        "*Example 3:*\n",
        "\n",
        "Input: haystack = \"\", needle = \"\"<br>\n",
        "Output: 0<br>\n",
        " \n",
        "\n",
        "*Constraints:*\n",
        "\n",
        "<li>0 <= haystack.length, needle.length <= 5 * 104\n",
        "<li>haystack and needle consist of only lower-case English characters."
      ]
    },
    {
      "cell_type": "code",
      "metadata": {
        "id": "RvuCxfZAmq2o"
      },
      "source": [
        "class Solution:\n",
        "    def strStr(self, haystack: str, needle: str) -> int:\n",
        "        len1 = len(needle)\n",
        "        #print(haystack[i: i+len1])\n",
        "        if len(haystack)==0 and len1==0:\n",
        "          return 0\n",
        "        if not haystack.isupper() and len(haystack)>=0 and len1 <= 5 * 10**4:\n",
        "          for i in range(len(haystack)):\n",
        "            if needle in haystack[i: i+len1]:\n",
        "              return i\n",
        "          else: \n",
        "            return -1\n",
        "        return -1\n"
      ],
      "execution_count": null,
      "outputs": []
    }
  ]
}