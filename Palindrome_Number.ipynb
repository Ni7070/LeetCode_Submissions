{
  "nbformat": 4,
  "nbformat_minor": 0,
  "metadata": {
    "colab": {
      "name": "Palindrome Number.ipynb",
      "provenance": [],
      "collapsed_sections": [],
      "authorship_tag": "ABX9TyPd+BEO09kF8zVAUMfKTbm+",
      "include_colab_link": true
    },
    "kernelspec": {
      "name": "python3",
      "display_name": "Python 3"
    },
    "language_info": {
      "name": "python"
    }
  },
  "cells": [
    {
      "cell_type": "markdown",
      "metadata": {
        "id": "view-in-github",
        "colab_type": "text"
      },
      "source": [
        "<a href=\"https://colab.research.google.com/github/Ni7070/LeetCode_Submissions/blob/master/Palindrome_Number.ipynb\" target=\"_parent\"><img src=\"https://colab.research.google.com/assets/colab-badge.svg\" alt=\"Open In Colab\"/></a>"
      ]
    },
    {
      "cell_type": "markdown",
      "metadata": {
        "id": "0jCf369u4o2q"
      },
      "source": [
        "**9. Palindrome Number**\n",
        "\n",
        "Given an integer x, return true if x is palindrome integer.\n",
        "\n",
        "An integer is a palindrome when it reads the same backward as forward. For example, 121 is palindrome while 123 is not.\n",
        "\n",
        " \n",
        "\n",
        "Example 1:<br>\n",
        "\n",
        "Input: x = 121<br>\n",
        "Output: true<br><br>\n",
        "\n",
        "Example 2:<br>\n",
        "\n",
        "Input: x = -121<br>\n",
        "Output: false<br>\n",
        "Explanation: From left to right, it reads -121. From right to left, it becomes 121-. Therefore it is not a palindrome.<br><br>\n",
        "Example 3:<br>\n",
        "\n",
        "Input: x = 10<br>\n",
        "Output: false<br>\n",
        "Explanation: Reads 01 from right to left. Therefore it is not a palindrome.<br><br>\n",
        "Example 4:<br>\n",
        "\n",
        "Input: x = -101<br>\n",
        "Output: false<br><br>\n",
        " \n",
        "\n",
        "Constraints:\n",
        "\n",
        "<li>-231 <= x <= 231 - 1"
      ]
    },
    {
      "cell_type": "code",
      "metadata": {
        "colab": {
          "base_uri": "https://localhost:8080/"
        },
        "id": "RvuCxfZAmq2o",
        "outputId": "925beffd-b733-40a2-a377-d78c47bcf2d6"
      },
      "source": [
        "class Solution:\n",
        "    def isPalindrome(self, x: int) -> bool:\n",
        "        import math\n",
        "        number = x\n",
        "        str1 = str(number)\n",
        "        m=[]\n",
        "        print(\"str1:\", str1, type(str1))\n",
        "        if number>=0:\n",
        "            while(number >= 10):\n",
        "              digit = number % 10\n",
        "              number = number / 10\n",
        "              #print(math.floor(digit))\n",
        "              m.append(math.floor(digit))\n",
        "            #print(number)\n",
        "            m.append(math.floor(number))\n",
        "            str2 = ''.join(map(str, m))\n",
        "\n",
        "            print(m)\n",
        "            print(\"str2:\", str2, type(str2))\n",
        "            if str1==str2:\n",
        "              return True\n",
        "            else:\n",
        "              return False \n",
        "        else:\n",
        "          return False"
      ],
      "execution_count": 17,
      "outputs": [
        {
          "output_type": "stream",
          "text": [
            "false\n"
          ],
          "name": "stdout"
        }
      ]
    }
  ]
}