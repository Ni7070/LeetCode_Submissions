{
  "nbformat": 4,
  "nbformat_minor": 0,
  "metadata": {
    "colab": {
      "name": "Reverse Integer.ipynb",
      "provenance": [],
      "authorship_tag": "ABX9TyP4DD3mpugWVK92GQPVRcED",
      "include_colab_link": true
    },
    "kernelspec": {
      "name": "python3",
      "display_name": "Python 3"
    },
    "language_info": {
      "name": "python"
    }
  },
  "cells": [
    {
      "cell_type": "markdown",
      "metadata": {
        "id": "view-in-github",
        "colab_type": "text"
      },
      "source": [
        "<a href=\"https://colab.research.google.com/github/Ni7070/LeetCode_Submissions/blob/master/Reverse_Integer.ipynb\" target=\"_parent\"><img src=\"https://colab.research.google.com/assets/colab-badge.svg\" alt=\"Open In Colab\"/></a>"
      ]
    },
    {
      "cell_type": "markdown",
      "metadata": {
        "id": "GlBtyZ0cebzq"
      },
      "source": [
        "**LEETCODE:**\n",
        "*7. Reverse Integer*\n",
        "\n",
        "Given a signed 32-bit integer x, return x with its digits reversed. If reversing x causes the value to go outside the signed 32-bit integer range [-231, 231 - 1], then return 0.\n",
        "\n",
        "Assume the environment does not allow you to store 64-bit integers (signed or unsigned)."
      ]
    },
    {
      "cell_type": "code",
      "metadata": {
        "id": "9cmvAJv8dS5y"
      },
      "source": [
        "def reverse(x: int) -> int:\n",
        "        import math\n",
        "    \n",
        "        number = x\n",
        "        m=[]\n",
        "        if number>0:\n",
        "          while(number >= 10):\n",
        "              digit = number % 10\n",
        "              number = number / 10\n",
        "              #print(math.floor(digit))\n",
        "              m.append(math.floor(digit))\n",
        "          #print(number)\n",
        "          m.append(math.floor(number)) # Last element will be in number\n",
        "          print(m)\n",
        "          n = ''.join(map(str, m))\n",
        "          n=int(n)\n",
        "          print(n)\n",
        "          if n in range(-2**31, 2**31 - 1):\n",
        "            return n\n",
        "          else:\n",
        "            return 0\n",
        "        elif number<0:\n",
        "          number=(-1)*number\n",
        "          print(number)\n",
        "          while(number >= 10):\n",
        "              digit = number % 10\n",
        "              number = number / 10\n",
        "              #print(math.floor(digit))\n",
        "              m.append(math.floor(digit))\n",
        "          #print(number)\n",
        "          m.append(math.floor(number)) # Last element will be in number\n",
        "          #print(m)\n",
        "          n = ''.join(map(str, m))\n",
        "          n=int(n)\n",
        "          n=(-1)*n\n",
        "          print(n)\n",
        "          if n in range(-2**31, 2**31 - 1):\n",
        "            return n\n",
        "          else: \n",
        "            return 0\n",
        "        elif number==0:\n",
        "          return 0\n",
        "        "
      ],
      "execution_count": 1,
      "outputs": []
    },
    {
      "cell_type": "code",
      "metadata": {
        "colab": {
          "base_uri": "https://localhost:8080/"
        },
        "id": "RaqRNZp4dcNT",
        "outputId": "f7782dcb-cb98-4f70-e4de-64275d0f8370"
      },
      "source": [
        "n = reverse(124)"
      ],
      "execution_count": 2,
      "outputs": [
        {
          "output_type": "stream",
          "text": [
            "[4, 2, 1]\n",
            "421\n"
          ],
          "name": "stdout"
        }
      ]
    }
  ]
}