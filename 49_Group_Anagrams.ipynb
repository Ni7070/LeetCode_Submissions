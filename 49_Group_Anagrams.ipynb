{
  "nbformat": 4,
  "nbformat_minor": 0,
  "metadata": {
    "colab": {
      "name": "49. Group Anagrams.ipynb",
      "provenance": [],
      "authorship_tag": "ABX9TyNbsCMgXkxLDF87uxaSWuwe",
      "include_colab_link": true
    },
    "kernelspec": {
      "name": "python3",
      "display_name": "Python 3"
    },
    "language_info": {
      "name": "python"
    }
  },
  "cells": [
    {
      "cell_type": "markdown",
      "metadata": {
        "id": "view-in-github",
        "colab_type": "text"
      },
      "source": [
        "<a href=\"https://colab.research.google.com/github/Ni7070/LeetCode_Submissions/blob/master/49_Group_Anagrams.ipynb\" target=\"_parent\"><img src=\"https://colab.research.google.com/assets/colab-badge.svg\" alt=\"Open In Colab\"/></a>"
      ]
    },
    {
      "cell_type": "markdown",
      "metadata": {
        "id": "v6fgmkn4_u2K"
      },
      "source": [
        "**49. Group Anagrams**\n",
        "Given an array of strings strs, group the anagrams together. You can return the answer in any order.\n",
        "\n",
        "An Anagram is a word or phrase formed by rearranging the letters of a different word or phrase, typically using all the original letters exactly once.\n",
        "\n",
        " \n",
        "\n",
        "*Example 1:*\n",
        "\n",
        "Input: strs = [\"eat\",\"tea\",\"tan\",\"ate\",\"nat\",\"bat\"]\n",
        "Output: [[\"bat\"],[\"nat\",\"tan\"],[\"ate\",\"eat\",\"tea\"]]<br>\n",
        "\n",
        "*Example 2:*\n",
        "\n",
        "Input: strs = [\"\"]\n",
        "Output: [[\"\"]]\n",
        "\n",
        "*Example 3:*\n",
        "\n",
        "Input: strs = [\"a\"]\n",
        "Output: [[\"a\"]]\n",
        " \n",
        "\n",
        "Constraints:\n",
        "\n",
        "<li>1 <= strs.length <= 104\n",
        "<li>0 <= strs[i].length <= 100\n",
        "<li>strs[i] consists of lower-case English letters."
      ]
    },
    {
      "cell_type": "code",
      "metadata": {
        "colab": {
          "base_uri": "https://localhost:8080/"
        },
        "id": "CHu72JKooPgx",
        "outputId": "d4730bb4-c072-4793-b3a3-48f74f6031e9"
      },
      "source": [
        "class GroupAnagram:\n",
        "    def groupAnagrams(self, strs: List[str]) -> List[List[str]]:\n",
        "\n",
        "        res = [i.strip().split(\", \") for i in strs]\n",
        "        dic = {}\n",
        "\n",
        "        \n",
        "        for list in res:\n",
        "          for number in list:\n",
        "            temp = \"\".join(sorted(number))\n",
        "            if temp not in dic:\n",
        "              dic[temp] = [number]\n",
        "            else:\n",
        "              dic[temp].append(number)\n",
        "\n",
        "\n",
        "        return dic.values()\n",
        "\n",
        "\n",
        "if __name__ == '__main__':\n",
        "    r = GroupAnagram()\n",
        "    print(r.groupAnagrams([\"eat\",\"tea\",\"tan\",\"ate\",\"nat\",\"bat\"]))\n",
        "  "
      ],
      "execution_count": 149,
      "outputs": [
        {
          "output_type": "stream",
          "text": [
            "dict_values([['eat', 'tea', 'ate'], ['tan', 'nat'], ['bat']])\n"
          ],
          "name": "stdout"
        }
      ]
    },
    {
      "cell_type": "code",
      "metadata": {
        "colab": {
          "base_uri": "https://localhost:8080/"
        },
        "id": "6129IIPis709",
        "outputId": "303ffe13-a27e-427e-bd55-fb93f45a9409"
      },
      "source": [
        "strs = [\"eat\",\"tea\",\"tan\",\"ate\",\"nat\",\"bat\", \"aht\"]\n",
        "\n",
        "\n",
        "\n",
        "res = [i.strip().split(\", \") for i in strs]                   # it will produce list of lists, where each list is consists of a string \n",
        "                                                              # ex: [['eat'], ['tea'], ['tan'], ['ate'], ['nat'], ['bat']]\n",
        "dic = {}                                                      # take an empty dictionary\n",
        "p=[]                                                          # empty list\n",
        "\n",
        "\n",
        "for list in res:                                              # for every little list in the bigger list\n",
        "  for s in list:                                              # for every string in those lists\n",
        "    p.append(\"\".join(sorted(s)))                              # we sort each string an append it to a list,\n",
        "                                                              # not a necessary step but good for visualization\n",
        "                                                              # now, our p[]= ['aet', 'aet', 'ant', 'aet', 'ant', 'abt']\n",
        "                                                              # each string in the list is now sorted in alphabetical order\n",
        "    temp = \"\".join(sorted(s))                                 # sorting 1 string at a time\n",
        "    if temp not in dic:                                       #checking if that sorted string is not in our dictioray\n",
        "      dic[temp] = [s]                                         #if not in dictionary, we make dic{\"sorted string\" : [\"string\"] }\n",
        "      \n",
        "    else:                                                     #if that sorted string is already in our dictioray key\n",
        "      dic[temp].append(s)                                     # then we will append latter values(dupes) in that list of dict.values() \n",
        "                                                              #agianst the temp(sorted string) as key\n",
        "      \n",
        "    \n",
        "\n",
        "print(\"final dict: \", dic)\n",
        "\n",
        "print(\"Answer: \", dic.values())\n",
        "\n"
      ],
      "execution_count": 153,
      "outputs": [
        {
          "output_type": "stream",
          "text": [
            "final dict:  {'aet': ['eat', 'tea', 'ate'], 'ant': ['tan', 'nat'], 'abt': ['bat'], 'aht': ['aht']}\n",
            "Answer:  dict_values([['eat', 'tea', 'ate'], ['tan', 'nat'], ['bat'], ['aht']])\n"
          ],
          "name": "stdout"
        }
      ]
    },
    {
      "cell_type": "code",
      "metadata": {
        "id": "tK7rwi8g4SV6"
      },
      "source": [
        ""
      ],
      "execution_count": null,
      "outputs": []
    }
  ]
}